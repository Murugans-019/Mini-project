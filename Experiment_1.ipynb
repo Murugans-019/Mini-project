{
  "nbformat": 4,
  "nbformat_minor": 0,
  "metadata": {
    "colab": {
      "name": "Experiment -1.ipynb",
      "provenance": [],
      "collapsed_sections": [],
      "include_colab_link": true
    },
    "kernelspec": {
      "name": "python3",
      "display_name": "Python 3"
    },
    "language_info": {
      "name": "python"
    }
  },
  "cells": [
    {
      "cell_type": "markdown",
      "metadata": {
        "id": "view-in-github",
        "colab_type": "text"
      },
      "source": [
        "<a href=\"https://colab.research.google.com/github/Murugans-019/Mini-project/blob/master/Experiment_1.ipynb\" target=\"_parent\"><img src=\"https://colab.research.google.com/assets/colab-badge.svg\" alt=\"Open In Colab\"/></a>"
      ]
    },
    {
      "cell_type": "markdown",
      "metadata": {
        "id": "y6o4yXGS4Ut7"
      },
      "source": [
        "**AIM**"
      ]
    },
    {
      "cell_type": "markdown",
      "metadata": {
        "id": "rAhHp-PF4rHp"
      },
      "source": [
        "To Execute python programmes"
      ]
    },
    {
      "cell_type": "markdown",
      "metadata": {
        "id": "NvM2fqf9A4kJ"
      },
      "source": [
        "Write a python program to  print \"Hello, World\""
      ]
    },
    {
      "cell_type": "code",
      "metadata": {
        "colab": {
          "base_uri": "https://localhost:8080/"
        },
        "id": "3fSOCrM-stTK",
        "outputId": "6e86d469-5e6d-4110-ec7f-461b8ee04e0d"
      },
      "source": [
        "#1\n",
        "print(\"hello world\")"
      ],
      "execution_count": null,
      "outputs": [
        {
          "output_type": "stream",
          "text": [
            "hello world\n"
          ],
          "name": "stdout"
        }
      ]
    },
    {
      "cell_type": "markdown",
      "metadata": {
        "id": "Nof4jHWNA8l4"
      },
      "source": [
        "Write a python program to print your name"
      ]
    },
    {
      "cell_type": "code",
      "metadata": {
        "colab": {
          "base_uri": "https://localhost:8080/"
        },
        "id": "DSMP0hHPtnZR",
        "outputId": "754bb5ba-5ec3-4e30-bf01-1aa0eb274f31"
      },
      "source": [
        "#2\n",
        "print(\"MURUGAN S\")"
      ],
      "execution_count": null,
      "outputs": [
        {
          "output_type": "stream",
          "text": [
            "MURUGAN S\n"
          ],
          "name": "stdout"
        }
      ]
    },
    {
      "cell_type": "markdown",
      "metadata": {
        "id": "sPuxJdUyBAtB"
      },
      "source": [
        "Write a python program to find the value of A"
      ]
    },
    {
      "cell_type": "code",
      "metadata": {
        "colab": {
          "base_uri": "https://localhost:8080/"
        },
        "id": "F-VIHj2Ktwno",
        "outputId": "75a4aeb1-e8e4-4274-8290-2540d1554383"
      },
      "source": [
        "#3\n",
        "a= input ()\n",
        "print(a)\n"
      ],
      "execution_count": null,
      "outputs": [
        {
          "output_type": "stream",
          "text": [
            "10\n",
            "10\n"
          ],
          "name": "stdout"
        }
      ]
    },
    {
      "cell_type": "markdown",
      "metadata": {
        "id": "2PBDAhU5BGGR"
      },
      "source": [
        "Write a python program to finding sum of 845 and 247"
      ]
    },
    {
      "cell_type": "code",
      "metadata": {
        "colab": {
          "base_uri": "https://localhost:8080/"
        },
        "id": "-GXCXwjtuPph",
        "outputId": "b508442f-0992-4bce-c02e-0606e11878ff"
      },
      "source": [
        "#4\n",
        "print(845+247)"
      ],
      "execution_count": null,
      "outputs": [
        {
          "output_type": "stream",
          "text": [
            "1092\n"
          ],
          "name": "stdout"
        }
      ]
    },
    {
      "cell_type": "markdown",
      "metadata": {
        "id": "LvpIrsxuBJCz"
      },
      "source": [
        "Write a python program to  add two numbers"
      ]
    },
    {
      "cell_type": "code",
      "metadata": {
        "colab": {
          "base_uri": "https://localhost:8080/"
        },
        "id": "KEdrJKM3uUov",
        "outputId": "59ad1dcf-78c7-4520-9376-dc354ad07d4a"
      },
      "source": [
        "#5\n",
        "a,b= 5,10\n",
        "c=a+b\n",
        "print(c)"
      ],
      "execution_count": null,
      "outputs": [
        {
          "output_type": "stream",
          "text": [
            "15\n"
          ],
          "name": "stdout"
        }
      ]
    },
    {
      "cell_type": "markdown",
      "metadata": {
        "id": "guBm2hxVBiG4"
      },
      "source": [
        "Write a python program to finding the value of a circle (Area = π × r2 )"
      ]
    },
    {
      "cell_type": "code",
      "metadata": {
        "colab": {
          "base_uri": "https://localhost:8080/"
        },
        "id": "qf8TIaUeBdZR",
        "outputId": "f216653a-98eb-4097-bdd7-ec73e88aadf4"
      },
      "source": [
        "#6\n",
        "r=5\n",
        "area=3.14*r*r\n",
        "print(area)"
      ],
      "execution_count": null,
      "outputs": [
        {
          "output_type": "stream",
          "text": [
            "78.5\n"
          ],
          "name": "stdout"
        }
      ]
    },
    {
      "cell_type": "markdown",
      "metadata": {
        "id": "th5z2K2lBlm5"
      },
      "source": [
        "Write a python program to finding the volume of a cylinder (v= π × r2 ×  h)"
      ]
    },
    {
      "cell_type": "code",
      "metadata": {
        "colab": {
          "base_uri": "https://localhost:8080/"
        },
        "id": "xzh-tlT3ujfQ",
        "outputId": "6e1ac790-a95f-463c-f0de-93bd3742aa23"
      },
      "source": [
        "#7\n",
        "r=5\n",
        "h=10\n",
        "volume=3.14*r*r*h\n",
        "print(volume)"
      ],
      "execution_count": null,
      "outputs": [
        {
          "output_type": "stream",
          "text": [
            "785.0\n"
          ],
          "name": "stdout"
        }
      ]
    },
    {
      "cell_type": "markdown",
      "metadata": {
        "id": "8kc6PmT6Bo8C"
      },
      "source": [
        "Write a python program to calculate simple interest ( SI = (PNR/100))"
      ]
    },
    {
      "cell_type": "code",
      "metadata": {
        "colab": {
          "base_uri": "https://localhost:8080/"
        },
        "id": "HvZtQ9Ux0z0U",
        "outputId": "708e9977-ff45-4bc6-8b05-45a6d1f9528d"
      },
      "source": [
        "#8\n",
        "P = 1000\n",
        "R = 1\n",
        "N = 2\n",
        "# simple interest\n",
        "SI = (P * N * R) / 100\n",
        "print(\"simple interest is\", SI)"
      ],
      "execution_count": null,
      "outputs": [
        {
          "output_type": "stream",
          "text": [
            "simple interest is 20.0\n"
          ],
          "name": "stdout"
        }
      ]
    },
    {
      "cell_type": "markdown",
      "metadata": {
        "id": "WM7qdZPeBsr6"
      },
      "source": [
        "Write a python program to find the sum and average of 5 subjects"
      ]
    },
    {
      "cell_type": "code",
      "metadata": {
        "colab": {
          "base_uri": "https://localhost:8080/"
        },
        "id": "pTWmj6ha1iij",
        "outputId": "071931d8-86c5-4f22-b159-d6cde0e1c931"
      },
      "source": [
        "#9\n",
        "E= 50\n",
        "t = 70\n",
        "m = 80\n",
        "s = 90\n",
        "h = 100\n",
        "# sum\n",
        "sum = (e+ t + m + s + h)\n",
        "# average\n",
        "average = sum / 5\n",
        "print(\"sum is\", sum)\n",
        "print(\"average is\", average)\n"
      ],
      "execution_count": null,
      "outputs": [
        {
          "output_type": "stream",
          "text": [
            "sum is 440\n",
            "average is 88.0\n"
          ],
          "name": "stdout"
        }
      ]
    },
    {
      "cell_type": "markdown",
      "metadata": {
        "id": "mIQlVMy_5j0O"
      },
      "source": [
        "Write a python program to find Area of Square (Area = a2 ) , Rectangle (Area = w × h ) and Triangle (Area = ½ × b × h)"
      ]
    },
    {
      "cell_type": "code",
      "metadata": {
        "colab": {
          "base_uri": "https://localhost:8080/"
        },
        "id": "HrFo3vsA5lDN",
        "outputId": "b5cef0fd-396a-4a07-f637-a425e28a471f"
      },
      "source": [
        "#10\n",
        "a= 5\n",
        "w= 4\n",
        "h= 2\n",
        "b= 6\n",
        "square = a*a\n",
        "print(square)\n",
        "rectangle = w*h\n",
        "print(rectangle)\n",
        "triangle= 1/2 *b*h\n",
        "print(triangle)\n",
        "\n"
      ],
      "execution_count": null,
      "outputs": [
        {
          "output_type": "stream",
          "text": [
            "25\n",
            "8\n",
            "6.0\n"
          ],
          "name": "stdout"
        }
      ]
    },
    {
      "cell_type": "markdown",
      "metadata": {
        "id": "pW80K0AiBwhk"
      },
      "source": [
        "Write a python program to Compute compound interest  (A = P(1 + r/n) ^ nt ) or A = P (1 + r/n) (nt)    [^ means 'to the power of']"
      ]
    },
    {
      "cell_type": "code",
      "metadata": {
        "colab": {
          "base_uri": "https://localhost:8080/"
        },
        "id": "3XRPkwR58pT0",
        "outputId": "478079cc-e4a5-4329-e91e-856281d438f1"
      },
      "source": [
        "#11\n",
        "p = 500\n",
        "n = 2\n",
        "R = 4\n",
        "#compound interest\n",
        "CI = p*(1+R/100)**n\n",
        "print(CI)"
      ],
      "execution_count": null,
      "outputs": [
        {
          "output_type": "stream",
          "text": [
            "540.8000000000001\n"
          ],
          "name": "stdout"
        }
      ]
    },
    {
      "cell_type": "markdown",
      "metadata": {
        "id": "ACx2lJ6E_Tc1"
      },
      "source": [
        "If an amount of 5,000 is deposited into a savings account at an annual interest rate of 5%, compounded monthly, the value of the investment after 10 years"
      ]
    },
    {
      "cell_type": "code",
      "metadata": {
        "colab": {
          "base_uri": "https://localhost:8080/"
        },
        "id": "vfIkihpe_XqN",
        "outputId": "248062e5-b6a7-40bf-f430-a25436167f90"
      },
      "source": [
        "#12\n",
        "p,n,r=5000,10,5\n",
        "Ci = p*(1+R/100)**n\n",
        "print(Ci)"
      ],
      "execution_count": null,
      "outputs": [
        {
          "output_type": "stream",
          "text": [
            "7401.221424591722\n"
          ],
          "name": "stdout"
        }
      ]
    },
    {
      "cell_type": "markdown",
      "metadata": {
        "id": "45joJWA6Cc75"
      },
      "source": [
        "Let's say your goal is to end up with Rs.10,000 in 5 years, and you can get an 8% interest rate on your savings, compounded monthly.\n"
      ]
    },
    {
      "cell_type": "code",
      "metadata": {
        "colab": {
          "base_uri": "https://localhost:8080/"
        },
        "id": "zPaEw8qyChQi",
        "outputId": "88d14b5f-c044-470c-b5a7-a25a5dc3c404"
      },
      "source": [
        "#13\n",
        "\n",
        "p,n,r=10000,5,8\n",
        "si=(p*n*r)/100\n",
        "print(si)"
      ],
      "execution_count": null,
      "outputs": [
        {
          "output_type": "stream",
          "text": [
            "4000.0\n"
          ],
          "name": "stdout"
        }
      ]
    },
    {
      "cell_type": "markdown",
      "metadata": {
        "id": "SiE23a-NDmuh"
      },
      "source": [
        "What will be the difference between the simple interest on a principal of Rs. 500 is calculated at 5% per year for 3 years and 4% per year for 4 years?"
      ]
    },
    {
      "cell_type": "code",
      "metadata": {
        "colab": {
          "base_uri": "https://localhost:8080/"
        },
        "id": "FbDac7dpDp1F",
        "outputId": "374ce565-82c3-4585-a5ab-27c8c5311c4d"
      },
      "source": [
        "#14\n",
        "\n",
        "p,n1,r1,n2,r2=500,3,5,4,4\n",
        "si1=(p*n1*r1)/100\n",
        "si2=(p*n2*r2)/100\n",
        "print(si2-si1)"
      ],
      "execution_count": null,
      "outputs": [
        {
          "output_type": "stream",
          "text": [
            "5.0\n"
          ],
          "name": "stdout"
        }
      ]
    },
    {
      "cell_type": "markdown",
      "metadata": {
        "id": "YfKnFYSXEP0j"
      },
      "source": [
        "If it is given that simple interest is 10.5% annually and compound interest is 10% annually, what will be the difference between the interests on a sum of Rs? 2000 after 3 years?"
      ]
    },
    {
      "cell_type": "code",
      "metadata": {
        "colab": {
          "base_uri": "https://localhost:8080/"
        },
        "id": "PskRYwYNETLm",
        "outputId": "b6e495f1-a482-4e71-bd92-c8014bc4d0eb"
      },
      "source": [
        "#15\n",
        "p,n,r,t=2000,3,10.5,3\n",
        "si=(p*n*r)/100\n",
        "ci=p*((1+0.1)**n)-p\n",
        "print(ci-si)"
      ],
      "execution_count": null,
      "outputs": [
        {
          "output_type": "stream",
          "text": [
            "32.00000000000091\n"
          ],
          "name": "stdout"
        }
      ]
    },
    {
      "cell_type": "markdown",
      "metadata": {
        "id": "zKKB5O-XEubM"
      },
      "source": [
        "Raj decided to borrow a certain sum at the certain rate of interest from a bank which charges simple interest. He deposits the same sum at the same interest rate in another bank which offers compound interest. If the ratio of the difference of interests calculated by both the banks after 3 years to that after 2 years is 31/10, find the rate of interest.[link text](https://)"
      ]
    },
    {
      "cell_type": "code",
      "metadata": {
        "id": "6VoSnOkfEwwg"
      },
      "source": [
        "#16\n"
      ],
      "execution_count": null,
      "outputs": []
    },
    {
      "cell_type": "markdown",
      "metadata": {
        "id": "9Ns6kAF6E521"
      },
      "source": [
        "Alex wants to borrow Rs.1,000. The local bank says \"10% Interest\". So to borrow the $1,000 for 1 year will cost:"
      ]
    },
    {
      "cell_type": "code",
      "metadata": {
        "colab": {
          "base_uri": "https://localhost:8080/"
        },
        "id": "PgAm1NkOE88t",
        "outputId": "0f7b2ccc-66e1-4c73-8170-b861ad6c66c6"
      },
      "source": [
        "#17\n",
        "\n",
        "p,r,n=1000,10,1\n",
        "print((p*n*r)/100)"
      ],
      "execution_count": null,
      "outputs": [
        {
          "output_type": "stream",
          "text": [
            "100.0\n"
          ],
          "name": "stdout"
        }
      ]
    },
    {
      "cell_type": "markdown",
      "metadata": {
        "id": "1zx4QBpvFOSm"
      },
      "source": [
        "Jan borrowed Rs.3,000 for 4 Years at 5% interest rate, how much interest is that? \n",
        "\n"
      ]
    },
    {
      "cell_type": "code",
      "metadata": {
        "colab": {
          "base_uri": "https://localhost:8080/"
        },
        "id": "UwUa8PdlFQ_O",
        "outputId": "074987fe-b4a2-4cae-9c3e-981f3a77f4d0"
      },
      "source": [
        "#18\n",
        "\n",
        "p,n,r=3000,4,5\n",
        "print((p*n*r)/100)"
      ],
      "execution_count": null,
      "outputs": [
        {
          "output_type": "stream",
          "text": [
            "600.0\n"
          ],
          "name": "stdout"
        }
      ]
    },
    {
      "cell_type": "markdown",
      "metadata": {
        "id": "xXJH69-RFaP1"
      },
      "source": [
        "**RESULT**"
      ]
    },
    {
      "cell_type": "markdown",
      "metadata": {
        "id": "BQHe9ZLMFff2"
      },
      "source": [
        "THUS THE PYTHON PROGRAMMES ARE EXECUTES AND VERIFIED"
      ]
    }
  ]
}